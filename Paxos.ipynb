{
 "cells": [
  {
   "cell_type": "code",
   "execution_count": 1,
   "metadata": {},
   "outputs": [],
   "source": [
    "#import asyncio\n",
    "import paxos_asyncio as pa"
   ]
  },
  {
   "cell_type": "code",
   "execution_count": null,
   "metadata": {
    "scrolled": false
   },
   "outputs": [
    {
     "name": "stdout",
     "output_type": "stream",
     "text": [
      "\u001b[0m [CO] created as coordinator\n",
      "\u001b[91m [0] created as proposer\n",
      "\u001b[35m [1] created as acceptor\n",
      "\u001b[34m [2] created as acceptor\n",
      "\u001b[32m [3] created as acceptor\n",
      "\u001b[91m [0] sent message to 1: PREPARE N=0\n",
      "\u001b[91m [0] sent message to 2: PREPARE N=0\n",
      "\u001b[35m [1] sent message to 0: PROMISE N=0, PREV_ACC_N=None, PREV_ACC_VAL=None\n",
      "\u001b[35m [1] recv message from 0: PREPARE N=0\n",
      "\u001b[91m [0] sent message to 3: PREPARE N=0\n",
      "\u001b[32m [3] sent message to 0: PROMISE N=0, PREV_ACC_N=None, PREV_ACC_VAL=None\n",
      "\u001b[91m [0] recv message from 1: PROMISE N=0, PREV_ACC_N=None, PREV_ACC_VAL=None\n",
      "\u001b[32m [3] recv message from 0: PREPARE N=0\n",
      "\u001b[34m [2] sent message to 0: PROMISE N=0, PREV_ACC_N=None, PREV_ACC_VAL=None\n",
      "\u001b[91m [0] sent message to 1: ACCEPT N=0, PROPOSAL=0\n",
      "\u001b[34m [2] recv message from 0: PREPARE N=0\n",
      "\u001b[35m [1] accepted 0\n",
      "\u001b[35m [1] recv message from 0: ACCEPT N=0, PROPOSAL=0\n",
      "\u001b[91m [0] sent message to 2: ACCEPT N=0, PROPOSAL=0\n",
      "\u001b[34m [2] accepted 0\n",
      "\u001b[34m [2] recv message from 0: ACCEPT N=0, PROPOSAL=0\n",
      "\u001b[91m [0] sent message to 3: ACCEPT N=0, PROPOSAL=0\n",
      "\u001b[91m [0] recv message from 3: PROMISE N=0, PREV_ACC_N=None, PREV_ACC_VAL=None\n",
      "\u001b[91m [0] recv message from 2: PROMISE N=0, PREV_ACC_N=None, PREV_ACC_VAL=None\n",
      "\u001b[32m [3] accepted 0\n",
      "\u001b[32m [3] recv message from 0: ACCEPT N=0, PROPOSAL=0\n",
      "\u001b[32m [3] killed by CHAOS MONKEY\n"
     ]
    }
   ],
   "source": [
    "await pa.run_paxos()"
   ]
  },
  {
   "cell_type": "code",
   "execution_count": null,
   "metadata": {},
   "outputs": [],
   "source": []
  }
 ],
 "metadata": {
  "kernelspec": {
   "display_name": "Python 3",
   "language": "python",
   "name": "python3"
  },
  "language_info": {
   "codemirror_mode": {
    "name": "ipython",
    "version": 3
   },
   "file_extension": ".py",
   "mimetype": "text/x-python",
   "name": "python",
   "nbconvert_exporter": "python",
   "pygments_lexer": "ipython3",
   "version": "3.7.9"
  },
  "toc": {
   "base_numbering": 1,
   "nav_menu": {},
   "number_sections": true,
   "sideBar": true,
   "skip_h1_title": false,
   "title_cell": "Table of Contents",
   "title_sidebar": "Contents",
   "toc_cell": false,
   "toc_position": {},
   "toc_section_display": true,
   "toc_window_display": false
  }
 },
 "nbformat": 4,
 "nbformat_minor": 4
}
