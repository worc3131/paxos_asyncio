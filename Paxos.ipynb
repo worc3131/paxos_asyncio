{
 "cells": [
  {
   "cell_type": "code",
   "execution_count": 1,
   "metadata": {},
   "outputs": [],
   "source": [
    "#import asyncio\n",
    "import paxos_asyncio as pa"
   ]
  },
  {
   "cell_type": "code",
   "execution_count": 2,
   "metadata": {},
   "outputs": [
    {
     "name": "stdout",
     "output_type": "stream",
     "text": [
      "\u001b[0m [0] created as an proposer\n",
      "\u001b[36m [1] created as an acceptor\n",
      "\u001b[91m [2] created as an acceptor\n",
      "\u001b[35m [3] created as an acceptor\n",
      "\u001b[36m [1] killed by chaos monkey\n",
      "\u001b[35m [3] killed by chaos monkey\n",
      "\u001b[0m [0] killed by chaos monkey\n",
      "\u001b[91m [2] killed by chaos monkey\n",
      "Done!\n"
     ]
    }
   ],
   "source": [
    "await pa.run_paxos()"
   ]
  },
  {
   "cell_type": "code",
   "execution_count": null,
   "metadata": {},
   "outputs": [],
   "source": []
  },
  {
   "cell_type": "code",
   "execution_count": null,
   "metadata": {},
   "outputs": [],
   "source": []
  }
 ],
 "metadata": {
  "kernelspec": {
   "display_name": "Python 3",
   "language": "python",
   "name": "python3"
  },
  "language_info": {
   "codemirror_mode": {
    "name": "ipython",
    "version": 3
   },
   "file_extension": ".py",
   "mimetype": "text/x-python",
   "name": "python",
   "nbconvert_exporter": "python",
   "pygments_lexer": "ipython3",
   "version": "3.7.9"
  },
  "toc": {
   "base_numbering": 1,
   "nav_menu": {},
   "number_sections": true,
   "sideBar": true,
   "skip_h1_title": false,
   "title_cell": "Table of Contents",
   "title_sidebar": "Contents",
   "toc_cell": false,
   "toc_position": {},
   "toc_section_display": true,
   "toc_window_display": false
  }
 },
 "nbformat": 4,
 "nbformat_minor": 4
}
